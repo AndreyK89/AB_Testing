{
 "cells": [
  {
   "cell_type": "markdown",
   "id": "3184db0a",
   "metadata": {},
   "source": [
    "## A/B-тестирование (семинары).\n",
    "## Урок 7.  \n",
    "Нестандартные ситуации.  \n",
    "  \n",
    "### Задача.\n",
    "\n",
    "На основе выбранных продуктов из первого вебинара, выберите 2 A/B-теста и составьте план эксперимента,  \n",
    "чтобы избежать $Peeking$ $problem$.  \n",
    "Распишите, какие метрики и как вы будете анализировать.  \n",
    "  \n",
    "#### Решение:  \n",
    "- $Peeking$ $problem$ - (проблема подглядывания) проявляется, когда вы проверяете промежуточные результаты с готовностью принять решение: раскатить одну из версий, если различие между тестом и контролем окажется значимым .\n",
    "- Это может привести к двум типам последствий:  \n",
    "1)Преждевременно законченный тест - не валидные результаты.  \n",
    "2)Продолжение теста в ожидании стат значимости - шанс потратить деньги и время компании не получив результата.\n",
    "\n",
    "Выбор продукта - wildberries.ru.\n",
    "  \n",
    "##### А/В тесты:  \n",
    "1) Если каждому клиенту предоставлять накопительные баллы в зависимости от суммы покупок, то Churn-rate уменьшится, а LTV повысится.  \n",
    "2) Если продавцы будут предоставлять более качественные фото товаров, то Churn-rate также уменьшится, а CR увеличится."
   ]
  },
  {
   "cell_type": "markdown",
   "id": "e54592e5",
   "metadata": {},
   "source": [
    "Ключевые метрики:\n",
    "- LTV - доход, который клиент принёс компании за всё время взаимодействия с ней;  \n",
    "- AOV - средний чек;\n",
    "- CR - конверсия в покупку;\n",
    "- Churn-rate - количество отказов."
   ]
  },
  {
   "cell_type": "code",
   "execution_count": 1,
   "id": "f1a69a7e",
   "metadata": {},
   "outputs": [],
   "source": [
    "# импорт необходимых библиотек\n",
    "from statsmodels.stats.power import tt_ind_solve_power, zt_ind_solve_power\n",
    "from statsmodels.stats.proportion import proportion_effectsize\n",
    "from statsmodels.stats.meta_analysis import effectsize_smd\n",
    "from typing import Union\n",
    "import plotly.graph_objects as go\n",
    "from scipy import stats\n",
    "from math import asin\n",
    "import numpy as np"
   ]
  },
  {
   "cell_type": "code",
   "execution_count": 9,
   "id": "b0b14092",
   "metadata": {},
   "outputs": [],
   "source": [
    "#Расчёт effect_size для непрерывных метрик\n",
    "def calc_continuous_effect_size(mean_1: Union[float, int],\n",
    "                                std_1: Union[float, int],\n",
    "                                mean_2: Union[float, int],\n",
    "                                std_2: Union[float, int],\n",
    "                                nobs_1: int = 10_000,\n",
    "                                nobs_2: int = 10_000):\n",
    "    \n",
    "    es_formula = (mean_1 - mean_2) / ((std_1**2 + std_2**2) / 2) ** 0.5\n",
    "    es_import = effectsize_smd(mean_1, std_1, nobs_1, mean_2, std_2, nobs_2)[0]\n",
    "    \n",
    "    return es_formula, es_import "
   ]
  },
  {
   "cell_type": "code",
   "execution_count": 10,
   "id": "9976ef47",
   "metadata": {},
   "outputs": [],
   "source": [
    "#Расчёт минимально необходимой выборки * 2(для теста и контроля) для непрерывной метрики\n",
    "def calc_sample_size_continuous(effect_size: float,\n",
    "                                alpha: float = .05,\n",
    "                                beta: float = .2,\n",
    "                                ratio: Union[float, int] = 1):\n",
    "    \n",
    "    n = tt_ind_solve_power(effect_size=effect_size,\n",
    "                           alpha=alpha,\n",
    "                           power=(1 - beta),\n",
    "                           ratio=ratio,\n",
    "                  )\n",
    "    return int(n * 2)"
   ]
  },
  {
   "cell_type": "code",
   "execution_count": 38,
   "id": "526e90e3",
   "metadata": {},
   "outputs": [
    {
     "data": {
      "text/plain": [
       "(-0.018, -0.017999324924053955)"
      ]
     },
     "execution_count": 38,
     "metadata": {},
     "output_type": "execute_result"
    }
   ],
   "source": [
    "mu_control, mu_test = 4.2, 4.83\n",
    "std_control, std_test = 35, 35 #* 1.15\n",
    "\n",
    "calc_continuous_effect_size(mean_1=mu_control, std_1=std_control, mean_2=mu_test, std_2=std_test)"
   ]
  },
  {
   "cell_type": "code",
   "execution_count": 42,
   "id": "d2749ae2",
   "metadata": {},
   "outputs": [
    {
     "name": "stdout",
     "output_type": "stream",
     "text": [
      "Общий размер выборки 96908 человек.\n"
     ]
    }
   ],
   "source": [
    "effect_size = calc_continuous_effect_size(mean_1=mu_control, std_1=std_control, mean_2=mu_test, std_2=std_test)[1]\n",
    "selection = calc_sample_size_continuous(effect_size=effect_size, alpha=.05, beta=.2)\n",
    "\n",
    "print(f\"Общий размер выборки {selection} человек.\")"
   ]
  },
  {
   "cell_type": "code",
   "execution_count": 46,
   "id": "108b0291",
   "metadata": {},
   "outputs": [
    {
     "name": "stdout",
     "output_type": "stream",
     "text": [
      "Необходимо провести эксперимент в течение 4.8454 дней\n"
     ]
    }
   ],
   "source": [
    "# Расчитаем количество дней.\n",
    "days = selection/20000\n",
    "\n",
    "print(f\"Необходимо провести эксперимент в течение {days} дней\")"
   ]
  },
  {
   "cell_type": "markdown",
   "id": "913e5559",
   "metadata": {},
   "source": [
    "Данные 4.8454 дней округляем в большую сторону => ~ 5 дней. "
   ]
  },
  {
   "cell_type": "markdown",
   "id": "41aa1fac",
   "metadata": {},
   "source": [
    "#### Шаблон дизайна эксперимента №1.  \n",
    "  \n",
    "##### Гипотеза :  \n",
    "- Если каждому клиенту предоставлять накопительные баллы 10% в зависимости от суммы покупок, то AOV=4,2 т.р повысится на 15%, потому что клиенты будут стараться накопить баллы, и будут совершать больше покупок.  \n",
    "- А Churn-rate (отказы) уменьшится на 10%, потому что клиенты будут стараться накопить баллы, и реализовать их, более тщательно выбирать товары.  \n",
    "##### Что делаем:\n",
    "- Контрольная версия: контрольной группе не начисляют накопительные баллы.\n",
    "- Тестовая версия: тестовой группе начисляют 10% баллов от покупки.  \n",
    "##### На каких пользователях тестируем: \n",
    "- Тестируем на 20 000 клиентах маркетплейса wildberries.ru, 2 группы по 10 000 клиентов в каждой.  \n",
    "##### Метрики:  \n",
    "- LTV - доход, который клиент принёс компании за всё время взаимодействия с ней.\n",
    "- Churn-rate - количество отказов.  \n",
    "##### План действий:\n",
    "- Если наш эксперимент будет положительным и мы зафиксируем ожидаемое увеличение LTV и уменьшение Churn-rate, то масштабируем изменение и «выкатываем» его на всех пользователей.\n",
    "- Если LTV падает и/или Churn-rate растет, откатываем эксперимент.  \n",
    "##### Избежать $Peeking$ $problem$:  \n",
    "- Правильно рассчитываем длительность теста и придерживаться сроков, которые вы посчитали.  \n",
    "- Мониторить промежуточные результаты эксперимента можно и нужно, но принимать решения на основе неполных данных нельзя."
   ]
  },
  {
   "cell_type": "markdown",
   "id": "5a886452",
   "metadata": {},
   "source": [
    "#### Шаблон дизайна эксперимента №2.  \n",
    "  \n",
    "##### Гипотеза :  \n",
    "- Если продавцы будут предоставлять более качественные детализированные фото товаров, то CR увеличится на 5%,  \n",
    "потому что клиенты могут рассмотреть фото товара в деталях, и выбрать нужный товар, а не пролистнуть дальше.  \n",
    "- Churn-rate уменьшится на 10%, потому что яркие, светлые, качественные фото товара, привлекают и стимулируют клиента к покупке.\n",
    "##### Что делаем:\n",
    "- Контрольная версия: контрольной группе оставляем фото в карточках как было.\n",
    "- Тестовая версия: тестовой группе показываем карточки с более качественными и яркими фото.  \n",
    "##### На каких пользователях тестируем: \n",
    "- Тестируем на 20 000 клиентах маркетплейса wildberries.ru, 2 группы по 10 000 клиентов в каждой.  \n",
    "##### Метрики:  \n",
    "- CR - конверсия в покупку;\n",
    "- Churn-rate - количество отказов.\n",
    "##### План действий:\n",
    "- Если наш эксперимент будет положительным и мы зафиксируем ожидаемое увеличение CR и уменьшение Churn-rate,  \n",
    "то масштабируем изменение и «выкатываем» его на всех пользователей.\n",
    "- Если CR падает и/или Churn-rate растет, откатываем эксперимент.  \n",
    "##### Избежать $Peeking$ $problem$:\n",
    "- Правильно рассчитываем длительность теста и придерживаться сроков, которые вы посчитали.  \n",
    "- Мониторить промежуточные результаты эксперимента можно и нужно, но принимать решения на основе неполных данных нельзя."
   ]
  },
  {
   "cell_type": "code",
   "execution_count": null,
   "id": "20933df4",
   "metadata": {},
   "outputs": [],
   "source": []
  }
 ],
 "metadata": {
  "kernelspec": {
   "display_name": "Python 3 (ipykernel)",
   "language": "python",
   "name": "python3"
  },
  "language_info": {
   "codemirror_mode": {
    "name": "ipython",
    "version": 3
   },
   "file_extension": ".py",
   "mimetype": "text/x-python",
   "name": "python",
   "nbconvert_exporter": "python",
   "pygments_lexer": "ipython3",
   "version": "3.9.13"
  }
 },
 "nbformat": 4,
 "nbformat_minor": 5
}
